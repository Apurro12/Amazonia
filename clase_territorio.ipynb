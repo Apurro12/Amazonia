{
 "cells": [
  {
   "cell_type": "code",
   "execution_count": 1,
   "metadata": {
    "collapsed": true
   },
   "outputs": [],
   "source": [
    "import random as rand"
   ]
  },
  {
   "cell_type": "code",
   "execution_count": 2,
   "metadata": {
    "collapsed": false
   },
   "outputs": [],
   "source": [
    "class Territorio(object):\n",
    "  \n",
    "    def __init__(self, tamaño, lista_p, lista_d): #ATRIBUTOS de territorio\n",
    "        self.tamaño = tamaño              #un vector que define el tamaño, sería la \"diagonal del rect\" en 2D\n",
    "        self.lista_p = lista_p            #lista que contiene los objetos presa\n",
    "        self.lista_d = lista_d            #lista que contiene los objetos depredadores\n",
    "        self.num_p = len(lista_p)    #número de presas\n",
    "        self.num_d = len(lista_d)    #número de depredadores  \n",
    "    \n",
    "    def asignar_pos(self):\n",
    "        pass\n",
    "                \n",
    "    def iniciar(self):\n",
    "        \n",
    "        self.x_d = []\n",
    "        self.y_d = []\n",
    "        if self.num_d > 0:\n",
    "            for j in range(0, self.num_d):\n",
    "                self.x_d.append(rand.randint(0,self.tamaño[0]+1))  #genera una posición random a partir de números\n",
    "                self.y_d.append(rand.randint(0,self.tamaño[1]+1))  #enteros dentro del rango 0 y el valor máximo de \n",
    "                                                                    #x o y, que están definidos por el vector tamaño\n",
    "        self.x_p = []\n",
    "        self.y_p = []\n",
    "        if self.num_d > 0:\n",
    "            for j in range(0, self.num_d):\n",
    "                self.x_p.append(rand.randint(0,self.tamaño[0]+1))\n",
    "                self.y_p.append(rand.randint(0,self.tamaño[1]+1))\n",
    "\n",
    "        \n",
    "        self.pos_p = list(zip(lista_p, self.x_p, self.y_p))         #zip mergea en una lista nueva los elementos i de\n",
    "        self.pos_d = list(zip(lista_d, self.x_d, self.y_d))         #cada lista\n",
    "        return (self.pos_p, self.pos_d)\n",
    "    \n",
    "        \n",
    "    \n",
    "\n",
    "    "
   ]
  },
  {
   "cell_type": "code",
   "execution_count": 3,
   "metadata": {
    "collapsed": false
   },
   "outputs": [],
   "source": [
    "tamaño = [20,20]\n",
    "lista_p = ['p1','p2','p3']\n",
    "lista_d = ['d1','d2','d3']"
   ]
  },
  {
   "cell_type": "code",
   "execution_count": 4,
   "metadata": {
    "collapsed": false
   },
   "outputs": [],
   "source": [
    "a = Territorio(tamaño,lista_p,lista_d)"
   ]
  },
  {
   "cell_type": "code",
   "execution_count": 7,
   "metadata": {
    "collapsed": false
   },
   "outputs": [
    {
     "data": {
      "text/plain": [
       "([('p1', 17, 21), ('p2', 6, 4), ('p3', 12, 8)],\n",
       " [('d1', 4, 12), ('d2', 21, 3), ('d3', 16, 0)])"
      ]
     },
     "execution_count": 7,
     "metadata": {},
     "output_type": "execute_result"
    }
   ],
   "source": [
    "a.iniciar()"
   ]
  },
  {
   "cell_type": "code",
   "execution_count": null,
   "metadata": {
    "collapsed": false
   },
   "outputs": [],
   "source": [
    "a.pos_d"
   ]
  },
  {
   "cell_type": "code",
   "execution_count": null,
   "metadata": {
    "collapsed": false
   },
   "outputs": [],
   "source": [
    "[list(a) for a in zip([1,2,3], [1,2,3], [1,2,3])]"
   ]
  },
  {
   "cell_type": "code",
   "execution_count": null,
   "metadata": {
    "collapsed": false
   },
   "outputs": [],
   "source": [
    "list(zip([1,2,3], [1,2,3], [1,2,3]))"
   ]
  },
  {
   "cell_type": "code",
   "execution_count": null,
   "metadata": {
    "collapsed": false
   },
   "outputs": [],
   "source": []
  },
  {
   "cell_type": "code",
   "execution_count": null,
   "metadata": {
    "collapsed": true
   },
   "outputs": [],
   "source": [
    "zip?"
   ]
  },
  {
   "cell_type": "code",
   "execution_count": null,
   "metadata": {
    "collapsed": true
   },
   "outputs": [],
   "source": []
  }
 ],
 "metadata": {
  "kernelspec": {
   "display_name": "Python 3",
   "language": "python",
   "name": "python3"
  },
  "language_info": {
   "codemirror_mode": {
    "name": "ipython",
    "version": 3
   },
   "file_extension": ".py",
   "mimetype": "text/x-python",
   "name": "python",
   "nbconvert_exporter": "python",
   "pygments_lexer": "ipython3",
   "version": "3.6.0"
  }
 },
 "nbformat": 4,
 "nbformat_minor": 2
}
