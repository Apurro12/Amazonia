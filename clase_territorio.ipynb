{
 "cells": [
  {
   "cell_type": "code",
   "execution_count": 1,
   "metadata": {
    "collapsed": true
   },
   "outputs": [],
   "source": [
    "import random as rand"
   ]
  },
  {
   "cell_type": "code",
   "execution_count": 6,
   "metadata": {
    "collapsed": false
   },
   "outputs": [],
   "source": [
    "class Territorio(object):\n",
    "  \n",
    "    def __init__(self, tamaño, lista_pre, lista_dep): #ATRIBUTOS de territorio\n",
    "        self.tamaño = tamaño              #un vector que define el tamaño, sería la \"diagonal del rect\" en 2D\n",
    "        self.lista_pre = lista_p            #lista que contiene los objetos presa\n",
    "        self.lista_dep = lista_d            #lista que contiene los objetos depredadores\n",
    "        self.num_pre = len(lista_p)    #número de presas\n",
    "        self.num_dep = len(lista_d)    #número de depredadores  \n",
    "    \n",
    "    def asignar_pos(self):\n",
    "        self.pos_dep[:][1] += self.pos_dep[:][0].moverse().mov[0]\n",
    "        self.pos_dep[:][2] += self.pos_dep[:][0].moverse().mov[1]\n",
    "        self.pos_pre[:][1] += self.pos_pre[:][0].moverse().mov[0]\n",
    "        self.pos_pre[:][2] += self.pos_pre[:][0].moverse().mov[1]\n",
    "        pass\n",
    "                \n",
    "    def iniciar(self):\n",
    "        \n",
    "        self.x_dep = []\n",
    "        self.y_dep = []\n",
    "        if self.num_dep > 0:\n",
    "            for j in range(0, self.num_dep):\n",
    "                self.x_dep.append(rand.random()*self.tamaño[0])  #genera una posición random a partir de números\n",
    "                self.y_dep.append(rand.random()*self.tamaño[1])  #enteros dentro del rango 0 y el valor máximo de \n",
    "                                                                    #x o y, que están definidos por el vector tamaño\n",
    "        self.x_pre = []\n",
    "        self.y_pre = []\n",
    "        if self.num_pre > 0:\n",
    "            for j in range(0, self.num_pre):\n",
    "                self.x_pre.append(rand.random()*self.tamaño[0])\n",
    "                self.y_pre.append(rand.random()*self.tamaño[1])\n",
    "\n",
    "        \n",
    "        self.pos_pre = list(zip(lista_pre, self.x_pre, self.y_pre))         #zip mergea en una lista nueva los elementos i de\n",
    "        self.pos_dep = list(zip(lista_dep, self.x_dep, self.y_dep))         #cada lista\n",
    "        return (self.pos_pre, self.pos_dep)\n",
    "    \n",
    "        \n",
    "    \n",
    "\n",
    "    "
   ]
  },
  {
   "cell_type": "code",
   "execution_count": 10,
   "metadata": {
    "collapsed": false
   },
   "outputs": [],
   "source": [
    "tamaño = [20,20]\n",
    "lista_pre = ['p1','p2','p3']\n",
    "lista_dep = ['d1','d2','d3']"
   ]
  },
  {
   "cell_type": "code",
   "execution_count": 11,
   "metadata": {
    "collapsed": false
   },
   "outputs": [],
   "source": [
    "a = Territorio(tamaño,lista_p,lista_d)"
   ]
  },
  {
   "cell_type": "code",
   "execution_count": 12,
   "metadata": {
    "collapsed": false
   },
   "outputs": [
    {
     "data": {
      "text/plain": [
       "([('p1', 12.4789218191962, 9.54226094207134),\n",
       "  ('p2', 12.260226165196926, 6.69232452008546),\n",
       "  ('p3', 10.079214778785197, 7.03359467306389)],\n",
       " [('d1', 2.0832929316516413, 6.232050239730964),\n",
       "  ('d2', 11.328870616835477, 2.3281323360107398),\n",
       "  ('d3', 18.720729959828162, 8.969635133929092)])"
      ]
     },
     "execution_count": 12,
     "metadata": {},
     "output_type": "execute_result"
    }
   ],
   "source": [
    "a.iniciar()"
   ]
  },
  {
   "cell_type": "code",
   "execution_count": 14,
   "metadata": {
    "collapsed": false
   },
   "outputs": [
    {
     "data": {
      "text/plain": [
       "[('d1', 2.0832929316516413, 6.232050239730964),\n",
       " ('d2', 11.328870616835477, 2.3281323360107398),\n",
       " ('d3', 18.720729959828162, 8.969635133929092)]"
      ]
     },
     "execution_count": 14,
     "metadata": {},
     "output_type": "execute_result"
    }
   ],
   "source": [
    "a.pos_dep"
   ]
  },
  {
   "cell_type": "code",
   "execution_count": 15,
   "metadata": {
    "collapsed": false
   },
   "outputs": [
    {
     "data": {
      "text/plain": [
       "[12.4789218191962, 12.260226165196926, 10.079214778785197]"
      ]
     },
     "execution_count": 15,
     "metadata": {},
     "output_type": "execute_result"
    }
   ],
   "source": [
    "a.x_pre"
   ]
  },
  {
   "cell_type": "code",
   "execution_count": null,
   "metadata": {
    "collapsed": true
   },
   "outputs": [],
   "source": []
  }
 ],
 "metadata": {
  "kernelspec": {
   "display_name": "Python 3",
   "language": "python",
   "name": "python3"
  },
  "language_info": {
   "codemirror_mode": {
    "name": "ipython",
    "version": 3
   },
   "file_extension": ".py",
   "mimetype": "text/x-python",
   "name": "python",
   "nbconvert_exporter": "python",
   "pygments_lexer": "ipython3",
   "version": "3.6.0"
  }
 },
 "nbformat": 4,
 "nbformat_minor": 2
}
