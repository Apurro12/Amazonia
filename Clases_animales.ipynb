{
 "cells": [
  {
   "cell_type": "code",
<<<<<<< HEAD
   "execution_count": 59,
   "metadata": {
    "collapsed": false
   },
   "outputs": [
    {
     "data": {
      "text/plain": [
       "3.0"
      ]
     },
     "execution_count": 59,
     "metadata": {},
     "output_type": "execute_result"
    }
   ],
=======
   "execution_count": 1,
   "metadata": {
    "collapsed": true
   },
   "outputs": [],
>>>>>>> b0c460871c5fb6d73475a142cc7fc4b387b54de1
   "source": [
    "import random as rand\n",
    "import numpy as np\n",
    "import clase_territorio as c_t\n",
    "\n",
    "class Animales(object):\n",
    "    def __init__(self,velocidad=1.,vision=1.):\n",
    "        self.velocidad = velocidad\n",
    "        self.vision = vision\n",
    "#        self.hambre = hambre\n",
    "#        self.vida = vida\n",
    "\n",
    "    def moverse(self):\n",
    "        self.dir_mov = [0,0]\n",
    "        theta = rand.random() # Este es el ángulo respecto del eje x para la dirección de movimiento\n",
    "        self.dir_mov[0] = np.cos(theta*2.*3.14)\n",
    "        self.dir_mov[1] = np.sin(theta*2.*3.14) #Poner un pi como la gente\n",
    "        return self.dir_mov\n",
    "\n",
    "        \n",
    "#Tenemos que definir el metodo vision\n",
    "\n",
    "class Presa(Animales):\n",
    "    def __init__(self):\n",
    "        Animales.__init__(self)\n",
    "        self.velocidad *= 2\n",
    "        self.vision *= 4\n",
    "\n",
    "class Depredador(Animales):\n",
    "    def __init__(self):\n",
    "        Animales.__init__(self)\n",
    "        self.velocidad *= 4\n",
    "        self.vision *= 4\n",
    "        \n",
    "    def ver(self,tag):\n",
    "        self.self_pos = [0,0]\n",
    "        self.self_pos = c_t.pos_d[tag][1:2]\n",
    "        for\n",
    "    pass\n",
    "\n",
    "    def cazar(self):\n",
    "        pass"
   ]
  },
  {
   "cell_type": "code",
   "execution_count": null,
   "metadata": {},
   "outputs": [],
   "source": []
  },
  {
   "cell_type": "code",
   "execution_count": null,
   "metadata": {},
   "outputs": [],
   "source": []
  },
  {
   "cell_type": "code",
   "execution_count": null,
   "metadata": {
    "collapsed": true
   },
   "outputs": [],
   "source": []
  },
  {
   "cell_type": "code",
   "execution_count": null,
   "metadata": {
    "collapsed": true
   },
   "outputs": [],
   "source": []
  },
  {
   "cell_type": "code",
<<<<<<< HEAD
   "execution_count": 57,
   "metadata": {
    "collapsed": false
   },
   "outputs": [
    {
     "name": "stdout",
     "output_type": "stream",
     "text": [
      "<__main__.TVseries object at 0x2b5e2031c940>\n"
     ]
    }
   ],
   "source": [
    "print(GOT)"
   ]
=======
   "execution_count": null,
   "metadata": {},
   "outputs": [],
   "source": []
  },
  {
   "cell_type": "code",
   "execution_count": null,
   "metadata": {
    "collapsed": true
   },
   "outputs": [],
   "source": []
  },
  {
   "cell_type": "code",
   "execution_count": null,
   "metadata": {},
   "outputs": [],
   "source": []
  },
  {
   "cell_type": "code",
   "execution_count": null,
   "metadata": {
    "collapsed": true
   },
   "outputs": [],
   "source": []
  },
  {
   "cell_type": "code",
   "execution_count": null,
   "metadata": {},
   "outputs": [],
   "source": []
>>>>>>> b0c460871c5fb6d73475a142cc7fc4b387b54de1
  },
  {
   "cell_type": "code",
   "execution_count": null,
   "metadata": {
    "collapsed": true
   },
   "outputs": [],
   "source": []
  }
 ],
 "metadata": {
  "kernelspec": {
   "display_name": "Python 3",
   "language": "python",
   "name": "python3"
  },
  "language_info": {
   "codemirror_mode": {
    "name": "ipython",
    "version": 3
   },
   "file_extension": ".py",
   "mimetype": "text/x-python",
   "name": "python",
   "nbconvert_exporter": "python",
   "pygments_lexer": "ipython3",
   "version": "3.6.0"
  }
 },
 "nbformat": 4,
 "nbformat_minor": 2
}
