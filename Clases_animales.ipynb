{
 "cells": [
  {
   "cell_type": "code",
   "execution_count": 18,
   "metadata": {},
   "outputs": [],
   "source": [
    "import random as rand\n",
    "import numpy as np\n",
    "\n",
    "class Animales(object):\n",
    "    def __init__(self,velocidad=1.,vision=1.):\n",
    "        self.velocidad = velocidad\n",
    "        self.vision = vision\n",
    "#        self.hambre = hambre\n",
    "#        self.vida = vida\n",
    "\n",
    "    def moverse(self):\n",
    "        self.mov = [0,0]\n",
    "        self.mov[0] = np.cos(rand.random()*2.*3.14) #No sabemos como cargar la velocidad\n",
    "        self.mov[1] =np.sin(rand.random()*2.*3.14) #Poner un pi como la gente\n",
    "        norma = np.sqrt(self.mov[0]*self.mov[0]+self.mov[1]*self.mov[1])\n",
    "        self.mov[0] /= norma\n",
    "        self.mov[1] /= norma\n",
    "        return self.mov\n",
    "\n",
    "    def ver(self):\n",
    "        pass\n",
    "        \n",
    "#Tenemos que definir el metodo vision\n",
    "\n",
    "class Presa(Animales):\n",
    "    def __init__(self):\n",
    "        Animales.__init__(self)\n",
    "        self.velocidad *= 2\n",
    "        self.vision *= 4\n",
    "\n",
    "class Depredador(Animales):\n",
    "    def __init__(self):\n",
    "        Animales.__init__(self)\n",
    "        self.velocidad *= 4\n",
    "        self.vision *= 4\n",
    "        \n",
    "        \n",
    "A = Depredador()\n",
    "#B = Presa()"
   ]
  },
  {
   "cell_type": "code",
   "execution_count": 21,
   "metadata": {},
   "outputs": [],
   "source": [
    "pos = A.moverse()"
   ]
  },
  {
   "cell_type": "code",
   "execution_count": 22,
   "metadata": {},
   "outputs": [
    {
     "name": "stdout",
     "output_type": "stream",
     "text": [
      "[0.9060928911717222, -0.42307880184200869]\n"
     ]
    }
   ],
   "source": [
    "print(pos)"
   ]
  },
  {
   "cell_type": "code",
   "execution_count": 54,
   "metadata": {
    "collapsed": true
   },
   "outputs": [],
   "source": [
    "class TVseries(object):\n",
    " \"\"\"\n",
    " Define a tv serie class\n",
    " \"\"\"\n",
    " def __init__(self, name, eps):\n",
    "  self.name = name\n",
    "  self.eps_per_s = eps\n",
    "\n",
    " def seen(self, num=1):\n",
    "  self.num_watched += num\n"
   ]
  },
  {
   "cell_type": "code",
   "execution_count": 55,
   "metadata": {
    "collapsed": true
   },
   "outputs": [],
   "source": [
    "GOT =TVseries('got', 3)"
   ]
  },
  {
   "cell_type": "code",
   "execution_count": 57,
   "metadata": {},
   "outputs": [
    {
     "name": "stdout",
     "output_type": "stream",
     "text": [
      "<__main__.TVseries object at 0x2b5e2031c940>\n"
     ]
    }
   ],
   "source": [
    "print(GOT)"
   ]
  },
  {
   "cell_type": "code",
   "execution_count": 2,
   "metadata": {},
   "outputs": [],
   "source": [
    "import numpy as np\n",
    "x = np.cos(1.)"
   ]
  },
  {
   "cell_type": "code",
   "execution_count": 3,
   "metadata": {},
   "outputs": [
    {
     "name": "stdout",
     "output_type": "stream",
     "text": [
      "0.540302305868\n"
     ]
    }
   ],
   "source": [
    "print(x)"
   ]
  },
  {
   "cell_type": "code",
   "execution_count": 5,
   "metadata": {},
   "outputs": [],
   "source": []
  },
  {
   "cell_type": "code",
   "execution_count": 6,
   "metadata": {},
   "outputs": [
    {
     "ename": "NameError",
     "evalue": "name 'mov' is not defined",
     "output_type": "error",
     "traceback": [
      "\u001b[0;31m---------------------------------------------------------------------------\u001b[0m",
      "\u001b[0;31mNameError\u001b[0m                                 Traceback (most recent call last)",
      "\u001b[0;32m<ipython-input-6-c8c75e2cef5f>\u001b[0m in \u001b[0;36m<module>\u001b[0;34m()\u001b[0m\n\u001b[0;32m----> 1\u001b[0;31m \u001b[0mprint\u001b[0m\u001b[0;34m(\u001b[0m\u001b[0mmov\u001b[0m\u001b[0;34m)\u001b[0m\u001b[0;34m\u001b[0m\u001b[0m\n\u001b[0m",
      "\u001b[0;31mNameError\u001b[0m: name 'mov' is not defined"
     ]
    }
   ],
   "source": []
  },
  {
   "cell_type": "code",
   "execution_count": null,
   "metadata": {
    "collapsed": true
   },
   "outputs": [],
   "source": []
  }
 ],
 "metadata": {
  "kernelspec": {
   "display_name": "Python 3",
   "language": "python",
   "name": "python3"
  },
  "language_info": {
   "codemirror_mode": {
    "name": "ipython",
    "version": 3
   },
   "file_extension": ".py",
   "mimetype": "text/x-python",
   "name": "python",
   "nbconvert_exporter": "python",
   "pygments_lexer": "ipython3",
   "version": "3.6.1"
  }
 },
 "nbformat": 4,
 "nbformat_minor": 2
}
